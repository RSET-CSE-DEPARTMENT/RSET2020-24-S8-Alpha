{
 "cells": [
  {
   "cell_type": "code",
   "execution_count": 44,
   "id": "0ed3e3bc-d7a3-407b-8ffd-409b92abd7e6",
   "metadata": {},
   "outputs": [],
   "source": [
    "\n",
    "from tensorflow.keras.models import load_model\n",
    "model_path=r\"C:\\Users\\abujo\\Downloads\\lung sound dataset\\Respiratory_Sound_Database\\Respiratory_Sound_Database\\_GRU_CNN_1.h5\"\n",
    "loaded_model = load_model(model_path)"
   ]
  },
  {
   "cell_type": "code",
   "execution_count": 34,
   "id": "bca41bff-fe05-42e2-bc13-ebcf53e9cc3b",
   "metadata": {},
   "outputs": [],
   "source": [
    "import numpy as np\n",
    "def add_noise(data,x):\n",
    "    noise = np.random.randn(len(data))\n",
    "    data_noise = data + x * noise\n",
    "    return data_noise\n",
    "\n",
    "def shift(data,x):\n",
    "    return np.roll(data, x)\n",
    "\n",
    "def stretch(data, r):\n",
    "    data = librosa.effects.time_stretch(data, rate=r)\n",
    "    return data\n"
   ]
  },
  {
   "cell_type": "code",
   "execution_count": 35,
   "id": "ecd48aef-9c63-4638-a6d9-6201a9fcf15f",
   "metadata": {},
   "outputs": [],
   "source": [
    "import librosa\n",
    "import librosa.display\n",
    "def gru_diagnosis1_prediction(test_audio, loaded_model):\n",
    "    data_x, sampling_rate = librosa.load(test_audio)\n",
    "    data_x = stretch(data_x, 1.2)\n",
    "\n",
    "    features = np.mean(librosa.feature.mfcc(y=data_x, sr=sampling_rate, n_mfcc=52).T, axis=0)\n",
    "    features = features.reshape(1, 52)\n",
    "\n",
    "    test_pred = loaded_model.predict(np.expand_dims(features, axis=1))\n",
    "    classpreds = classes[np.argmax(test_pred[0], axis=1)[0]]\n",
    "    confidence = test_pred.T[test_pred[0].mean(axis=0).argmax()].mean()\n",
    "\n",
    "    print(classpreds, confidence)"
   ]
  },
  {
   "cell_type": "code",
   "execution_count": 38,
   "id": "15679c9b-e109-4404-8caa-e4b8c0e0818b",
   "metadata": {},
   "outputs": [],
   "source": [
    "classes = [\"COPD\" ,\"Bronchiolitis \", \"Pneumonia\", \"URTI\", \"Healthy\"]"
   ]
  },
  {
   "cell_type": "code",
   "execution_count": 42,
   "id": "8e146e9e-eed5-46dd-b6b4-85b21ded5643",
   "metadata": {},
   "outputs": [
    {
     "name": "stdout",
     "output_type": "stream",
     "text": [
      "1/1 [==============================] - 6s 6s/step\n",
      "Bronchiolitis  0.9793615\n"
     ]
    }
   ],
   "source": [
    "file2 = r\"C:\\Users\\abujo\\Downloads\\lung sound dataset\\Respiratory_Sound_Database\\Respiratory_Sound_Database\\audio_and_txt_files\\168_1b1_Al_sc_Meditron.wav\"\n",
    "gru_diagnosis1_prediction(file2, loaded_model)"
   ]
  },
  {
   "cell_type": "code",
   "execution_count": null,
   "id": "93bae219-a026-4946-9d90-947911d111fa",
   "metadata": {},
   "outputs": [],
   "source": []
  }
 ],
 "metadata": {
  "kernelspec": {
   "display_name": "Python 3 (ipykernel)",
   "language": "python",
   "name": "python3"
  },
  "language_info": {
   "codemirror_mode": {
    "name": "ipython",
    "version": 3
   },
   "file_extension": ".py",
   "mimetype": "text/x-python",
   "name": "python",
   "nbconvert_exporter": "python",
   "pygments_lexer": "ipython3",
   "version": "3.11.4"
  }
 },
 "nbformat": 4,
 "nbformat_minor": 5
}
